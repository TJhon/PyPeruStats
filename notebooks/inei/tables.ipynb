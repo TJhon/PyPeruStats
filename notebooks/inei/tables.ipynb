{
 "cells": [
  {
   "cell_type": "code",
   "execution_count": 1,
   "metadata": {},
   "outputs": [],
   "source": [
    "from selenium import webdriver\n",
    "from selenium.webdriver.common.by import By\n",
    "\n",
    "inei_url = 'https://proyectos.inei.gob.pe/iinei/srienaho/index.htm'\n",
    "driver = webdriver.Edge()\n",
    "driver.get(inei_url)"
   ]
  },
  {
   "cell_type": "code",
   "execution_count": 2,
   "metadata": {},
   "outputs": [],
   "source": [
    "driver.execute_script(\"Ingresar()\")"
   ]
  },
  {
   "cell_type": "code",
   "execution_count": 3,
   "metadata": {},
   "outputs": [],
   "source": [
    "# links\n",
    "from bs4 import BeautifulSoup\n",
    "from io import StringIO\n",
    "import pandas as pd\n",
    "import time\n",
    "\n",
    "def get_table_info_mod(driver):\n",
    "\n",
    "    table = driver.find_element(\n",
    "        By.ID, \"divDetalle\"\n",
    "    )\n",
    "    table = table.find_element(By.TAG_NAME, 'table')\n",
    "\n",
    "    cells_in_table = table.find_elements(By.XPATH, './/td/a')\n",
    "\n",
    "    links = []\n",
    "    for cell in cells_in_table:\n",
    "        href = cell.get_attribute('href')\n",
    "        if href:\n",
    "            links.append(href)\n",
    "\n",
    "\n",
    "    table_html = driver.find_element(By.ID, \"divDetalle\").get_attribute(\"outerHTML\")\n",
    "\n",
    "    soup = BeautifulSoup(table_html, 'html.parser')\n",
    "    table = soup.find('table')\n",
    "    df = pd.read_html(StringIO(str(table)))[0]\n",
    "    len(df)\n",
    "\n",
    "    import numpy as np, re\n",
    "    array = np.array(links)\n",
    "\n",
    "    df1 = pd.DataFrame(array.reshape(-1, int(len(links) / len(df))))\n",
    "\n",
    "    keywords = [\"VerPreguntas\", \"VerFicha\", \"SPSS\", \"STATA\", \"CSV\", \"DBF\"]\n",
    "\n",
    "    # Función para limpiar texto y extraer solo las palabras clave relevantes\n",
    "    def extract_keywords(column):\n",
    "        # Buscar palabras clave en cada fila de la columna\n",
    "        return column.apply(lambda x: ' '.join(\n",
    "            word for word in keywords if word in x\n",
    "        ))\n",
    "\n",
    "    # Procesar el DataFrame para extraer las palabras clave relevantes\n",
    "    processed_df = df1.apply(extract_keywords)\n",
    "\n",
    "    # Función para encontrar el texto más repetido en cada columna\n",
    "    def most_frequent_text(column):\n",
    "        return column.mode()[0] if not column.mode().empty else None\n",
    "\n",
    "    # Generar el array con el texto más repetido por columna\n",
    "    result = processed_df.apply(most_frequent_text).tolist()\n",
    "\n",
    "    df1.columns = result\n",
    "\n",
    "    result_df = pd.concat((df, df1), axis = 1)\n",
    "\n",
    "    return result_df\n",
    "\n",
    "# get_table_info_mod(driver)"
   ]
  },
  {
   "cell_type": "code",
   "execution_count": 4,
   "metadata": {},
   "outputs": [],
   "source": [
    "from selenium.webdriver.support.ui import Select\n",
    "from selenium.webdriver.chrome.service import Service\n",
    "from selenium.webdriver.common.action_chains import ActionChains\n",
    "from selenium.webdriver.common.keys import Keys"
   ]
  },
  {
   "cell_type": "code",
   "execution_count": 5,
   "metadata": {},
   "outputs": [],
   "source": [
    "driver.find_element(By.XPATH, '/html/body/form/center/table[2]/tbody/tr[1]/td[2]/div[1]/span/span[1]/span').click()\n",
    "time.sleep(1)\n",
    "actions = ActionChains(driver)\n",
    "\n",
    "# Simular la acción de presionar la flecha hacia abajo 3 veces y luego Enter\n",
    "actions.send_keys(Keys.ARROW_DOWN)\\\n",
    "       .send_keys(Keys.ARROW_DOWN)\\\n",
    "       .send_keys(Keys.ENTER)\\\n",
    "       .perform()\n",
    "Select(driver.find_element(By.NAME, 'cmbEncuestaN')).select_by_index(1)\n",
    "time.sleep(.3)"
   ]
  },
  {
   "cell_type": "code",
   "execution_count": 6,
   "metadata": {},
   "outputs": [],
   "source": [
    "actions.send_keys(Keys.TAB).send_keys(Keys.DOWN).perform()"
   ]
  },
  {
   "cell_type": "code",
   "execution_count": 7,
   "metadata": {},
   "outputs": [],
   "source": [
    "cmb_anio = Select(driver.find_element(By.NAME, \"cmbAnno\"))\n",
    "data = []\n",
    "for anio in cmb_anio.options:\n",
    "    year_value = anio.get_attribute('value')\n",
    "    if year_value.strip() == \"\":\n",
    "        continue\n",
    "    time.sleep(0.5)\n",
    "    cmb_periodo = Select(driver.find_element(By.NAME, \"cmbTrimestre\"))\n",
    "    cmb_periodo.select_by_index(1)\n",
    "    time.sleep(0.5)\n",
    "    data_i = get_table_info_mod(driver)\n",
    "    cmb_anio.select_by_value(year_value)\n",
    "    data.append(data_i)\n"
   ]
  },
  {
   "cell_type": "code",
   "execution_count": 11,
   "metadata": {},
   "outputs": [],
   "source": [
    "metadata_inei = pd.concat(data)#.drop_duplicates()\n",
    "metadata_inei.to_csv(\"../../MetadataSources/inei/enaho_actualizado.csv\", index=False)\n"
   ]
  }
 ],
 "metadata": {
  "kernelspec": {
   "display_name": "pyperustats-BvXd1Mpa-py3.12",
   "language": "python",
   "name": "python3"
  },
  "language_info": {
   "codemirror_mode": {
    "name": "ipython",
    "version": 3
   },
   "file_extension": ".py",
   "mimetype": "text/x-python",
   "name": "python",
   "nbconvert_exporter": "python",
   "pygments_lexer": "ipython3",
   "version": "3.12.8"
  }
 },
 "nbformat": 4,
 "nbformat_minor": 2
}
