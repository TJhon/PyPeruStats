{
 "cells": [
  {
   "cell_type": "code",
   "execution_count": null,
   "metadata": {},
   "outputs": [
    {
     "ename": "",
     "evalue": "",
     "output_type": "error",
     "traceback": [
      "\u001b[1;31mRunning cells with 'pyperustats-BvXd1Mpa-py3.12 (Python 3.12.8)' requires the ipykernel package.\n",
      "\u001b[1;31mRun the following command to install 'ipykernel' into the Python environment. \n",
      "\u001b[1;31mCommand: '\"c:/Users/Anil Yemsy/AppData/Local/pypoetry/Cache/virtualenvs/pyperustats-BvXd1Mpa-py3.12/Scripts/python.exe\" -m pip install ipykernel -U --force-reinstall'"
     ]
    }
   ],
   "source": [
    "from selenium import webdriver\n",
    "import time\n",
    "\n",
    "from selenium.webdriver.common.by import By\n",
    "\n",
    "inei_url = 'https://proyectos.inei.gob.pe/iinei/srienaho/index.htm'\n"
   ]
  }
 ],
 "metadata": {
  "kernelspec": {
   "display_name": "pyperustats-BvXd1Mpa-py3.12",
   "language": "python",
   "name": "python3"
  },
  "language_info": {
   "name": "python",
   "version": "3.12.8"
  }
 },
 "nbformat": 4,
 "nbformat_minor": 2
}
